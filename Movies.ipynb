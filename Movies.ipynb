{
  "nbformat": 4,
  "nbformat_minor": 0,
  "metadata": {
    "colab": {
      "provenance": []
    },
    "kernelspec": {
      "name": "python3",
      "display_name": "Python 3"
    },
    "language_info": {
      "name": "python"
    }
  },
  "cells": [
    {
      "cell_type": "markdown",
      "source": [
        "## RECOMMENDER SYSTEM LAB\n",
        "\n"
      ],
      "metadata": {
        "id": "IRnmn358Geeg"
      }
    },
    {
      "cell_type": "code",
      "execution_count": 1,
      "metadata": {
        "id": "zeAlZJFJiPTr"
      },
      "outputs": [],
      "source": [
        "# Load Libraries\n",
        "import pandas as pd\n",
        "import numpy as np\n",
        "from sklearn.metrics.pairwise import cosine_similarity\n",
        "from sklearn.feature_extraction.text import TfidfVectorizer"
      ]
    },
    {
      "cell_type": "code",
      "source": [
        "from google.colab import files\n",
        "uploaded = files.upload()"
      ],
      "metadata": {
        "colab": {
          "base_uri": "https://localhost:8080/",
          "height": 71
        },
        "id": "clywt3IkHNpd",
        "outputId": "87f059df-9bdf-4385-c1bf-6442750185ce"
      },
      "execution_count": 3,
      "outputs": [
        {
          "output_type": "display_data",
          "data": {
            "text/plain": [
              "<IPython.core.display.HTML object>"
            ],
            "text/html": [
              "\n",
              "     <input type=\"file\" id=\"files-0c97b6ec-4b1f-440b-bcb1-16b842e8f2db\" name=\"files[]\" multiple disabled\n",
              "        style=\"border:none\" />\n",
              "     <output id=\"result-0c97b6ec-4b1f-440b-bcb1-16b842e8f2db\">\n",
              "      Upload widget is only available when the cell has been executed in the\n",
              "      current browser session. Please rerun this cell to enable.\n",
              "      </output>\n",
              "      <script>// Copyright 2017 Google LLC\n",
              "//\n",
              "// Licensed under the Apache License, Version 2.0 (the \"License\");\n",
              "// you may not use this file except in compliance with the License.\n",
              "// You may obtain a copy of the License at\n",
              "//\n",
              "//      http://www.apache.org/licenses/LICENSE-2.0\n",
              "//\n",
              "// Unless required by applicable law or agreed to in writing, software\n",
              "// distributed under the License is distributed on an \"AS IS\" BASIS,\n",
              "// WITHOUT WARRANTIES OR CONDITIONS OF ANY KIND, either express or implied.\n",
              "// See the License for the specific language governing permissions and\n",
              "// limitations under the License.\n",
              "\n",
              "/**\n",
              " * @fileoverview Helpers for google.colab Python module.\n",
              " */\n",
              "(function(scope) {\n",
              "function span(text, styleAttributes = {}) {\n",
              "  const element = document.createElement('span');\n",
              "  element.textContent = text;\n",
              "  for (const key of Object.keys(styleAttributes)) {\n",
              "    element.style[key] = styleAttributes[key];\n",
              "  }\n",
              "  return element;\n",
              "}\n",
              "\n",
              "// Max number of bytes which will be uploaded at a time.\n",
              "const MAX_PAYLOAD_SIZE = 100 * 1024;\n",
              "\n",
              "function _uploadFiles(inputId, outputId) {\n",
              "  const steps = uploadFilesStep(inputId, outputId);\n",
              "  const outputElement = document.getElementById(outputId);\n",
              "  // Cache steps on the outputElement to make it available for the next call\n",
              "  // to uploadFilesContinue from Python.\n",
              "  outputElement.steps = steps;\n",
              "\n",
              "  return _uploadFilesContinue(outputId);\n",
              "}\n",
              "\n",
              "// This is roughly an async generator (not supported in the browser yet),\n",
              "// where there are multiple asynchronous steps and the Python side is going\n",
              "// to poll for completion of each step.\n",
              "// This uses a Promise to block the python side on completion of each step,\n",
              "// then passes the result of the previous step as the input to the next step.\n",
              "function _uploadFilesContinue(outputId) {\n",
              "  const outputElement = document.getElementById(outputId);\n",
              "  const steps = outputElement.steps;\n",
              "\n",
              "  const next = steps.next(outputElement.lastPromiseValue);\n",
              "  return Promise.resolve(next.value.promise).then((value) => {\n",
              "    // Cache the last promise value to make it available to the next\n",
              "    // step of the generator.\n",
              "    outputElement.lastPromiseValue = value;\n",
              "    return next.value.response;\n",
              "  });\n",
              "}\n",
              "\n",
              "/**\n",
              " * Generator function which is called between each async step of the upload\n",
              " * process.\n",
              " * @param {string} inputId Element ID of the input file picker element.\n",
              " * @param {string} outputId Element ID of the output display.\n",
              " * @return {!Iterable<!Object>} Iterable of next steps.\n",
              " */\n",
              "function* uploadFilesStep(inputId, outputId) {\n",
              "  const inputElement = document.getElementById(inputId);\n",
              "  inputElement.disabled = false;\n",
              "\n",
              "  const outputElement = document.getElementById(outputId);\n",
              "  outputElement.innerHTML = '';\n",
              "\n",
              "  const pickedPromise = new Promise((resolve) => {\n",
              "    inputElement.addEventListener('change', (e) => {\n",
              "      resolve(e.target.files);\n",
              "    });\n",
              "  });\n",
              "\n",
              "  const cancel = document.createElement('button');\n",
              "  inputElement.parentElement.appendChild(cancel);\n",
              "  cancel.textContent = 'Cancel upload';\n",
              "  const cancelPromise = new Promise((resolve) => {\n",
              "    cancel.onclick = () => {\n",
              "      resolve(null);\n",
              "    };\n",
              "  });\n",
              "\n",
              "  // Wait for the user to pick the files.\n",
              "  const files = yield {\n",
              "    promise: Promise.race([pickedPromise, cancelPromise]),\n",
              "    response: {\n",
              "      action: 'starting',\n",
              "    }\n",
              "  };\n",
              "\n",
              "  cancel.remove();\n",
              "\n",
              "  // Disable the input element since further picks are not allowed.\n",
              "  inputElement.disabled = true;\n",
              "\n",
              "  if (!files) {\n",
              "    return {\n",
              "      response: {\n",
              "        action: 'complete',\n",
              "      }\n",
              "    };\n",
              "  }\n",
              "\n",
              "  for (const file of files) {\n",
              "    const li = document.createElement('li');\n",
              "    li.append(span(file.name, {fontWeight: 'bold'}));\n",
              "    li.append(span(\n",
              "        `(${file.type || 'n/a'}) - ${file.size} bytes, ` +\n",
              "        `last modified: ${\n",
              "            file.lastModifiedDate ? file.lastModifiedDate.toLocaleDateString() :\n",
              "                                    'n/a'} - `));\n",
              "    const percent = span('0% done');\n",
              "    li.appendChild(percent);\n",
              "\n",
              "    outputElement.appendChild(li);\n",
              "\n",
              "    const fileDataPromise = new Promise((resolve) => {\n",
              "      const reader = new FileReader();\n",
              "      reader.onload = (e) => {\n",
              "        resolve(e.target.result);\n",
              "      };\n",
              "      reader.readAsArrayBuffer(file);\n",
              "    });\n",
              "    // Wait for the data to be ready.\n",
              "    let fileData = yield {\n",
              "      promise: fileDataPromise,\n",
              "      response: {\n",
              "        action: 'continue',\n",
              "      }\n",
              "    };\n",
              "\n",
              "    // Use a chunked sending to avoid message size limits. See b/62115660.\n",
              "    let position = 0;\n",
              "    do {\n",
              "      const length = Math.min(fileData.byteLength - position, MAX_PAYLOAD_SIZE);\n",
              "      const chunk = new Uint8Array(fileData, position, length);\n",
              "      position += length;\n",
              "\n",
              "      const base64 = btoa(String.fromCharCode.apply(null, chunk));\n",
              "      yield {\n",
              "        response: {\n",
              "          action: 'append',\n",
              "          file: file.name,\n",
              "          data: base64,\n",
              "        },\n",
              "      };\n",
              "\n",
              "      let percentDone = fileData.byteLength === 0 ?\n",
              "          100 :\n",
              "          Math.round((position / fileData.byteLength) * 100);\n",
              "      percent.textContent = `${percentDone}% done`;\n",
              "\n",
              "    } while (position < fileData.byteLength);\n",
              "  }\n",
              "\n",
              "  // All done.\n",
              "  yield {\n",
              "    response: {\n",
              "      action: 'complete',\n",
              "    }\n",
              "  };\n",
              "}\n",
              "\n",
              "scope.google = scope.google || {};\n",
              "scope.google.colab = scope.google.colab || {};\n",
              "scope.google.colab._files = {\n",
              "  _uploadFiles,\n",
              "  _uploadFilesContinue,\n",
              "};\n",
              "})(self);\n",
              "</script> "
            ]
          },
          "metadata": {}
        },
        {
          "output_type": "stream",
          "name": "stdout",
          "text": [
            "Saving movies_dataset.csv to movies_dataset.csv\n"
          ]
        }
      ]
    },
    {
      "cell_type": "code",
      "source": [
        "# Step 2: Load Dataset\n",
        "\n",
        "df = pd.read_csv(\"movies_dataset.csv\")\n",
        "print(\"Dataset Preview:\")\n",
        "print(df.head(15))"
      ],
      "metadata": {
        "colab": {
          "base_uri": "https://localhost:8080/"
        },
        "id": "CIno69gzHX5v",
        "outputId": "74b5ca1a-1b25-45a3-c316-51268afb2dfa"
      },
      "execution_count": 9,
      "outputs": [
        {
          "output_type": "stream",
          "name": "stdout",
          "text": [
            "Dataset Preview:\n",
            "    ID                  MOVIE_TITLE  RATING               GENRE\n",
            "0    1                      Sabrina       3     Romance | Drama\n",
            "1    1  Father of the Bride Part II       4              Comedy\n",
            "2    1            Waiting to Exhale       3     Romance | Drama\n",
            "3    2                    Toy Story       4  Animation | Comedy\n",
            "4    2                      Jumanji       5           Adventure\n",
            "5    2                     Chatered       4           Adventure\n",
            "6    3                      Encanto       5           Animation\n",
            "7    3                       Wicked       5             Fantasy\n",
            "8    3             Grumpier Old Men       4    Romance | Comedy\n",
            "9    4                       Frozen       4           Animation\n",
            "10   4                    John Wick       5              Action\n",
            "11   4                    Rush Hour       5              Action\n",
            "12   5                     Bad Boys       4              Action\n",
            "13   5                      Mr Bean       5              Comedy\n",
            "14   5                Despicable Me       5           Animation\n"
          ]
        }
      ]
    },
    {
      "cell_type": "code",
      "source": [
        "# Step 3: Create User-Item Matrix\n",
        "\n",
        "user_item_matrix = df.pivot_table(index=\"ID\", columns=\"MOVIE_TITLE\", values=\"RATING\")\n",
        "print(\"\\nUser-Item Matrix:\")\n",
        "print(user_item_matrix.head())"
      ],
      "metadata": {
        "colab": {
          "base_uri": "https://localhost:8080/"
        },
        "id": "eH2OmDKEIK4z",
        "outputId": "90f1abda-fd13-4a56-9c81-d73ca2bc24bf"
      },
      "execution_count": 11,
      "outputs": [
        {
          "output_type": "stream",
          "name": "stdout",
          "text": [
            "\n",
            "User-Item Matrix:\n",
            "MOVIE_TITLE  Bad Boys  Chatered  Despicable Me  Encanto  \\\n",
            "ID                                                        \n",
            "1                 NaN       NaN            NaN      NaN   \n",
            "2                 NaN       4.0            NaN      NaN   \n",
            "3                 NaN       NaN            NaN      5.0   \n",
            "4                 NaN       NaN            NaN      NaN   \n",
            "5                 4.0       NaN            5.0      NaN   \n",
            "\n",
            "MOVIE_TITLE  Father of the Bride Part II  Frozen  Grumpier Old Men  John Wick  \\\n",
            "ID                                                                              \n",
            "1                                    4.0     NaN               NaN        NaN   \n",
            "2                                    NaN     NaN               NaN        NaN   \n",
            "3                                    NaN     NaN               4.0        NaN   \n",
            "4                                    NaN     4.0               NaN        5.0   \n",
            "5                                    NaN     NaN               NaN        NaN   \n",
            "\n",
            "MOVIE_TITLE  Jumanji  Mr Bean  Rush Hour  Sabrina  Toy Story  \\\n",
            "ID                                                             \n",
            "1                NaN      NaN        NaN      3.0        NaN   \n",
            "2                5.0      NaN        NaN      NaN        4.0   \n",
            "3                NaN      NaN        NaN      NaN        NaN   \n",
            "4                NaN      NaN        5.0      NaN        NaN   \n",
            "5                NaN      5.0        NaN      NaN        NaN   \n",
            "\n",
            "MOVIE_TITLE  Waiting to Exhale  Wicked  \n",
            "ID                                      \n",
            "1                          3.0     NaN  \n",
            "2                          NaN     NaN  \n",
            "3                          NaN     5.0  \n",
            "4                          NaN     NaN  \n",
            "5                          NaN     NaN  \n"
          ]
        }
      ]
    },
    {
      "cell_type": "code",
      "source": [
        "# Step 4: Collaborative Filtering\n",
        "\n",
        "# Filling missing values\n",
        "matrix_filled = user_item_matrix.fillna(0)\n",
        "\n",
        "# Compute cosine similarity between users\n",
        "similarity = cosine_similarity(matrix_filled)\n",
        "print(\"\\nUser Similarity Matrix:\\n\", similarity)\n",
        "\n",
        "# Example: Recommend for user 1 (user_index = 0)\n",
        "user_index = 0\n",
        "similar_users = similarity[user_index]\n",
        "\n",
        "# Find most similar user (excluding self)\n",
        "most_similar_user = np.argsort(similar_users)[-2]\n",
        "\n",
        "# Get movies rated by most similar user\n",
        "recommended_movies = user_item_matrix.iloc[most_similar_user].dropna().index.tolist()\n",
        "print(f\"\\nRecommended movies for User 1 (Collaborative Filtering): {recommended_movies}\")"
      ],
      "metadata": {
        "colab": {
          "base_uri": "https://localhost:8080/"
        },
        "id": "1BT9YTtQIgom",
        "outputId": "7bc7d04c-5031-4e19-a433-e236bc3d0cbd"
      },
      "execution_count": 12,
      "outputs": [
        {
          "output_type": "stream",
          "name": "stdout",
          "text": [
            "\n",
            "User Similarity Matrix:\n",
            " [[1. 0. 0. 0. 0.]\n",
            " [0. 1. 0. 0. 0.]\n",
            " [0. 0. 1. 0. 0.]\n",
            " [0. 0. 0. 1. 0.]\n",
            " [0. 0. 0. 0. 1.]]\n",
            "\n",
            "Recommended movies for User 1 (Collaborative Filtering): ['Bad Boys', 'Despicable Me', 'Mr Bean']\n"
          ]
        }
      ]
    },
    {
      "cell_type": "code",
      "source": [
        "#Step 5: Content-Based Filtering\n",
        "# Use TF-IDF on genres\n",
        "tfidf = TfidfVectorizer(stop_words=\"english\")\n",
        "tfidf_matrix = tfidf.fit_transform(df['GENRE'].fillna(\"\"))\n",
        "\n",
        "# Compute cosine similarity between movies\n",
        "cosine_sim = cosine_similarity(tfidf_matrix, tfidf_matrix)\n",
        "\n",
        "# Build index mapping for movie titles\n",
        "indices = pd.Series(df.index, index=df['MOVIE_TITLE']).drop_duplicates()\n",
        "\n",
        "# Example: Recommend movies similar to \"Frozen\"\n",
        "movie_name = \"Frozen\"\n",
        "if movie_name in indices:\n",
        "    movie_index = indices[movie_name]\n",
        "    similar_indices = cosine_sim[movie_index].argsort()[-6:-1]  # Top 5 similar\n",
        "    print(f\"\\nMovies similar to {movie_name} (Content-Based):\")\n",
        "    print(df['MOVIE_TITLE'].iloc[similar_indices].tolist())\n",
        "else:\n",
        "    print(f\"\\nMovie '{movie_name}' not found in dataset!\")"
      ],
      "metadata": {
        "colab": {
          "base_uri": "https://localhost:8080/"
        },
        "id": "Stz_t6mZJXOI",
        "outputId": "a2e90706-7aeb-402f-90b8-dc31df270d63"
      },
      "execution_count": 14,
      "outputs": [
        {
          "output_type": "stream",
          "name": "stdout",
          "text": [
            "\n",
            "Movies similar to Frozen (Content-Based):\n",
            "['Bad Boys', 'Rush Hour', 'Toy Story', 'Encanto', 'Frozen']\n"
          ]
        }
      ]
    },
    {
      "cell_type": "markdown",
      "source": [
        "## **Reflection Section**\n",
        "\n"
      ],
      "metadata": {
        "id": "YIhrWh7cKPf2"
      }
    },
    {
      "cell_type": "markdown",
      "source": [
        "**Reflection:**\n",
        "\n",
        "1. Which method worked better (Content-Based vs Collaborative)?\n",
        "   - Collaborative Filtering worked better for this small dataset, since it uses actual user ratings to make recommendations.\n",
        "     For example, User 1 got movie suggestions that similar users had already rated highly, which feels more personalized.\n",
        "     Content-Based Filtering also worked, but since genres are broad and limited, the recommendations were less specific.\n",
        "\n",
        "2. What challenges did you face?\n",
        "   - Missing data: not every user rated every movie, so the user-item matrix had many NaN values.\n",
        "   - Small dataset: with only a few users and movies, recommendations are limited and may not feel very accurate.\n",
        "\n",
        "3. Which method would scale better with more data?\n",
        "   - Collaborative Filtering scales better when there are lots of users and ratings, because it learns from community behavior.\n",
        "   - Content-Based Filtering scales better when new movies are added, since recommendations can be made from metadata (like genres),\n",
        "     but it struggles with personalization if user rating history is short.\n",
        "   - A Hybrid system combining both methods would likely give the best results."
      ],
      "metadata": {
        "id": "VrO4RrF1Lf29"
      }
    },
    {
      "cell_type": "code",
      "source": [],
      "metadata": {
        "id": "df0fCqJ2Md5T"
      },
      "execution_count": null,
      "outputs": []
    }
  ]
}